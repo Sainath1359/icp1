{
  "nbformat": 4,
  "nbformat_minor": 0,
  "metadata": {
    "colab": {
      "provenance": []
    },
    "kernelspec": {
      "name": "python3",
      "display_name": "Python 3"
    },
    "language_info": {
      "name": "python"
    }
  },
  "cells": [
    {
      "cell_type": "code",
      "execution_count": 13,
      "metadata": {
        "colab": {
          "base_uri": "https://localhost:8080/"
        },
        "id": "xulMSJQXkeR3",
        "outputId": "411f19a7-e23e-4c43-bd4e-e0d96d16ae9d"
      },
      "outputs": [
        {
          "output_type": "stream",
          "name": "stdout",
          "text": [
            "Enter a string: python\n",
            "Modified and reversed string: htyp\n",
            "Enter the first number: 1\n",
            "Enter the second number: 2\n",
            "Arithmetic Operations:\n",
            "Addition: 3.0\n",
            "Subtraction: -1.0\n",
            "Multiplication: 2.0\n",
            "Division: 0.5\n"
          ]
        }
      ],
      "source": [
        "\n",
        "input_string = input(\"Enter a string: \")\n",
        "char_list = list(input_string)\n",
        "if len(char_list) >= 2:\n",
        "    del char_list[-2:]\n",
        "    char_list.reverse()\n",
        "    result = ''.join(char_list)\n",
        "    print(\"Modified and reversed string:\", result)\n",
        "else:\n",
        "    print(\"String must have at least 2 characters to perform the operation.\")\n",
        "\n",
        "num1 = float(input(\"Enter the first number: \"))\n",
        "num2 = float(input(\"Enter the second number: \"))\n",
        "\n",
        "# Perform arithmetic operations\n",
        "addition = num1 + num2\n",
        "subtraction = num1 - num2\n",
        "multiplication = num1 * num2\n",
        "\n",
        "# Check if num2 is not 0 to avoid division by zero\n",
        "if num2 != 0:\n",
        "    division = num1 / num2\n",
        "else:\n",
        "    division = \"Undefined (division by zero)\"\n",
        "\n",
        "print(\"Arithmetic Operations:\")\n",
        "print(\"Addition:\", addition)\n",
        "print(\"Subtraction:\", subtraction)\n",
        "print(\"Multiplication:\", multiplication)\n",
        "print(\"Division:\", division)"
      ]
    },
    {
      "cell_type": "code",
      "source": [
        "\n",
        "sentence = input(\"Enter a sentence: \")\n",
        "\n",
        "modified_sentence = sentence.replace(\"python\", \"pythons\")\n",
        "\n",
        "print(\"Modified Sentence:\", modified_sentence)"
      ],
      "metadata": {
        "colab": {
          "base_uri": "https://localhost:8080/"
        },
        "id": "HQ7jZ_WMlpeT",
        "outputId": "e301d6d8-bef4-4123-d709-9768fe7c05dc"
      },
      "execution_count": 15,
      "outputs": [
        {
          "output_type": "stream",
          "name": "stdout",
          "text": [
            "Enter a sentence: I love playing with python\n",
            "Modified Sentence: I love playing with pythons\n"
          ]
        }
      ]
    },
    {
      "cell_type": "code",
      "source": [
        "\n",
        "score = int(input(\"Enter the student class score: \"))\n",
        "\n",
        "if score >= 90:\n",
        "    grade = \"A\"\n",
        "elif score >= 80:\n",
        "    grade = \"B\"\n",
        "elif score >= 70:\n",
        "    grade = \"C\"\n",
        "elif score >= 60:\n",
        "    grade = \"D\"\n",
        "else:\n",
        "    grade = \"F\"\n",
        "\n",
        "print(\" Grade:\", grade)\n",
        "\n",
        ""
      ],
      "metadata": {
        "colab": {
          "base_uri": "https://localhost:8080/"
        },
        "id": "bSnBqkL2odTi",
        "outputId": "421cb3c3-e8d1-4c7f-b283-580203cfbe5c"
      },
      "execution_count": 16,
      "outputs": [
        {
          "output_type": "stream",
          "name": "stdout",
          "text": [
            "Enter the student class score: 90\n",
            " Grade: A\n"
          ]
        }
      ]
    }
  ]
}