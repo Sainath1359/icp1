{
  "nbformat": 4,
  "nbformat_minor": 0,
  "metadata": {
    "colab": {
      "provenance": []
    },
    "kernelspec": {
      "name": "python3",
      "display_name": "Python 3"
    },
    "language_info": {
      "name": "python"
    }
  },
  "cells": [
    {
      "cell_type": "code",
      "execution_count": null,
      "metadata": {
        "colab": {
          "base_uri": "https://localhost:8080/"
        },
        "id": "xulMSJQXkeR3",
        "outputId": "a83462be-2cc5-4fc3-a578-41286de5820d"
      },
      "outputs": [
        {
          "output_type": "stream",
          "name": "stdout",
          "text": [
            "Enter a string: python\n",
            "Modified and reversed string: htyp\n",
            "Enter the first number: 5\n",
            "Enter the second number: 9\n",
            "Arithmetic Operations:\n",
            "Addition: 14.0\n",
            "Subtraction: -4.0\n",
            "Multiplication: 45.0\n",
            "Division: 0.5555555555555556\n"
          ]
        }
      ],
      "source": [
        "\n",
        "input_string = input(\"Enter a string: \")  # Input the string\n",
        "char_list = list(input_string)  # Convert the string to a list of characters\n",
        "\n",
        "if len(char_list) >= 2:  # Ensure there are at least 2 characters to delete\n",
        "    del char_list[-2:]  # Delete the last two characters\n",
        "    char_list.reverse()  # Reverse the list\n",
        "    result = ''.join(char_list)  # Convert the list back to a string\n",
        "    print(\"Modified and reversed string:\", result)\n",
        "else:\n",
        "    print(\"String must have at least 2 characters to perform the operation.\")\n",
        "\n",
        "num1 = float(input(\"Enter the first number: \"))\n",
        "num2 = float(input(\"Enter the second number: \"))\n",
        "\n",
        "# Perform arithmetic operations\n",
        "addition = num1 + num2\n",
        "subtraction = num1 - num2\n",
        "multiplication = num1 * num2\n",
        "\n",
        "# Check if num2 is not 0 to avoid division by zero\n",
        "if num2 != 0:\n",
        "    division = num1 / num2\n",
        "else:\n",
        "    division = \"Undefined (division by zero)\"\n",
        "\n",
        "print(\"Arithmetic Operations:\")\n",
        "print(\"Addition:\", addition)\n",
        "print(\"Subtraction:\", subtraction)\n",
        "print(\"Multiplication:\", multiplication)\n",
        "print(\"Division:\", division)"
      ]
    },
    {
      "cell_type": "code",
      "source": [
        "# Accept the sentence from the user\n",
        "sentence = input(\"Enter a sentence: \")\n",
        "\n",
        "# Replace each occurrence of 'python' with 'pythons'\n",
        "modified_sentence = sentence.replace(\"python\", \"pythons\")\n",
        "\n",
        "# Print the modified sentence\n",
        "print(\"Modified Sentence:\", modified_sentence)"
      ],
      "metadata": {
        "colab": {
          "base_uri": "https://localhost:8080/"
        },
        "id": "HQ7jZ_WMlpeT",
        "outputId": "a6e25a1e-d56f-4217-dc35-9de5d337652c"
      },
      "execution_count": null,
      "outputs": [
        {
          "output_type": "stream",
          "name": "stdout",
          "text": [
            "Enter a sentence:  i love playing with python\n",
            "Modified Sentence:  i love playing with pythons\n"
          ]
        }
      ]
    },
    {
      "cell_type": "code",
      "source": [
        "\n",
        "score = int(input(\"Enter the class score: \"))\n",
        "\n",
        "\n",
        "if score >= 90:\n",
        "    grade = \"A\"\n",
        "elif score >= 80:\n",
        "    grade = \"B\"\n",
        "elif score >= 70:\n",
        "    grade = \"C\"\n",
        "elif score >= 60:\n",
        "    grade = \"D\"\n",
        "else:\n",
        "    grade = \"F\"\n",
        "\n"
      ],
      "metadata": {
        "colab": {
          "base_uri": "https://localhost:8080/",
          "height": 262
        },
        "id": "bSnBqkL2odTi",
        "outputId": "9fa51fba-5c33-40ae-aa7a-63d0694c03f6"
      },
      "execution_count": null,
      "outputs": [
        {
          "name": "stdout",
          "output_type": "stream",
          "text": [
            "Enter the class score: 85\n"
          ]
        },
        {
          "output_type": "error",
          "ename": "NameError",
          "evalue": "ignored",
          "traceback": [
            "\u001b[0;31m---------------------------------------------------------------------------\u001b[0m",
            "\u001b[0;31mNameError\u001b[0m                                 Traceback (most recent call last)",
            "\u001b[0;32m<ipython-input-8-e61525d66bfd>\u001b[0m in \u001b[0;36m<cell line: 15>\u001b[0;34m()\u001b[0m\n\u001b[1;32m     15\u001b[0m \u001b[0;32mtry\u001b[0m\u001b[0;34m:\u001b[0m\u001b[0;34m\u001b[0m\u001b[0;34m\u001b[0m\u001b[0m\n\u001b[1;32m     16\u001b[0m     \u001b[0;32mif\u001b[0m \u001b[0;36m0\u001b[0m \u001b[0;34m<=\u001b[0m \u001b[0mclass_score\u001b[0m \u001b[0;34m<=\u001b[0m \u001b[0;36m100\u001b[0m\u001b[0;34m:\u001b[0m\u001b[0;34m\u001b[0m\u001b[0;34m\u001b[0m\u001b[0m\n\u001b[0;32m---> 17\u001b[0;31m         \u001b[0mletter_grade\u001b[0m \u001b[0;34m=\u001b[0m \u001b[0mcalculate_class_grade\u001b[0m\u001b[0;34m(\u001b[0m\u001b[0mclass_score\u001b[0m\u001b[0;34m)\u001b[0m\u001b[0;34m\u001b[0m\u001b[0;34m\u001b[0m\u001b[0m\n\u001b[0m\u001b[1;32m     18\u001b[0m         \u001b[0mprint\u001b[0m\u001b[0;34m(\u001b[0m\u001b[0;34m\"The letter grade for the score {:.2f} is: {}\"\u001b[0m\u001b[0;34m.\u001b[0m\u001b[0mformat\u001b[0m\u001b[0;34m(\u001b[0m\u001b[0mclass_score\u001b[0m\u001b[0;34m,\u001b[0m \u001b[0mletter_grade\u001b[0m\u001b[0;34m)\u001b[0m\u001b[0;34m)\u001b[0m\u001b[0;34m\u001b[0m\u001b[0;34m\u001b[0m\u001b[0m\n\u001b[1;32m     19\u001b[0m     \u001b[0;32melse\u001b[0m\u001b[0;34m:\u001b[0m\u001b[0;34m\u001b[0m\u001b[0;34m\u001b[0m\u001b[0m\n",
            "\u001b[0;31mNameError\u001b[0m: name 'calculate_class_grade' is not defined"
          ]
        }
      ]
    }
  ]
}